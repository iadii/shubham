{
 "cells": [
  {
   "cell_type": "markdown",
   "metadata": {},
   "source": []
  },
  {
   "cell_type": "code",
   "execution_count": 2,
   "metadata": {
    "id": "hlNfrSC1PGfZ"
   },
   "outputs": [],
   "source": [
    "import numpy as np\n",
    "import pandas as pd\n",
    "from sklearn.model_selection import train_test_split\n",
    "from sklearn.linear_model import LogisticRegression\n",
    "from sklearn.metrics import accuracy_score"
   ]
  },
  {
   "cell_type": "code",
   "execution_count": 3,
   "metadata": {
    "id": "W0CTsNioTKnJ"
   },
   "outputs": [],
   "source": [
    "credit_card_data = pd.read_csv('creditcard.csv')"
   ]
  },
  {
   "cell_type": "code",
   "execution_count": 4,
   "metadata": {
    "colab": {
     "base_uri": "https://localhost:8080/",
     "height": 218
    },
    "id": "o_iMfyHsTa6s",
    "outputId": "318bdb4d-9f20-4789-c6e6-9b2de1aad091"
   },
   "outputs": [
    {
     "data": {
      "text/html": [
       "<div>\n",
       "<style scoped>\n",
       "    .dataframe tbody tr th:only-of-type {\n",
       "        vertical-align: middle;\n",
       "    }\n",
       "\n",
       "    .dataframe tbody tr th {\n",
       "        vertical-align: top;\n",
       "    }\n",
       "\n",
       "    .dataframe thead th {\n",
       "        text-align: right;\n",
       "    }\n",
       "</style>\n",
       "<table border=\"1\" class=\"dataframe\">\n",
       "  <thead>\n",
       "    <tr style=\"text-align: right;\">\n",
       "      <th></th>\n",
       "      <th>Time</th>\n",
       "      <th>V1</th>\n",
       "      <th>V2</th>\n",
       "      <th>V3</th>\n",
       "      <th>V4</th>\n",
       "      <th>V5</th>\n",
       "      <th>V6</th>\n",
       "      <th>V7</th>\n",
       "      <th>V8</th>\n",
       "      <th>V9</th>\n",
       "      <th>...</th>\n",
       "      <th>V21</th>\n",
       "      <th>V22</th>\n",
       "      <th>V23</th>\n",
       "      <th>V24</th>\n",
       "      <th>V25</th>\n",
       "      <th>V26</th>\n",
       "      <th>V27</th>\n",
       "      <th>V28</th>\n",
       "      <th>Amount</th>\n",
       "      <th>Class</th>\n",
       "    </tr>\n",
       "  </thead>\n",
       "  <tbody>\n",
       "    <tr>\n",
       "      <th>0</th>\n",
       "      <td>0.0</td>\n",
       "      <td>-1.359807</td>\n",
       "      <td>-0.072781</td>\n",
       "      <td>2.536347</td>\n",
       "      <td>1.378155</td>\n",
       "      <td>-0.338321</td>\n",
       "      <td>0.462388</td>\n",
       "      <td>0.239599</td>\n",
       "      <td>0.098698</td>\n",
       "      <td>0.363787</td>\n",
       "      <td>...</td>\n",
       "      <td>-0.018307</td>\n",
       "      <td>0.277838</td>\n",
       "      <td>-0.110474</td>\n",
       "      <td>0.066928</td>\n",
       "      <td>0.128539</td>\n",
       "      <td>-0.189115</td>\n",
       "      <td>0.133558</td>\n",
       "      <td>-0.021053</td>\n",
       "      <td>149.62</td>\n",
       "      <td>0</td>\n",
       "    </tr>\n",
       "    <tr>\n",
       "      <th>1</th>\n",
       "      <td>0.0</td>\n",
       "      <td>1.191857</td>\n",
       "      <td>0.266151</td>\n",
       "      <td>0.166480</td>\n",
       "      <td>0.448154</td>\n",
       "      <td>0.060018</td>\n",
       "      <td>-0.082361</td>\n",
       "      <td>-0.078803</td>\n",
       "      <td>0.085102</td>\n",
       "      <td>-0.255425</td>\n",
       "      <td>...</td>\n",
       "      <td>-0.225775</td>\n",
       "      <td>-0.638672</td>\n",
       "      <td>0.101288</td>\n",
       "      <td>-0.339846</td>\n",
       "      <td>0.167170</td>\n",
       "      <td>0.125895</td>\n",
       "      <td>-0.008983</td>\n",
       "      <td>0.014724</td>\n",
       "      <td>2.69</td>\n",
       "      <td>0</td>\n",
       "    </tr>\n",
       "    <tr>\n",
       "      <th>2</th>\n",
       "      <td>1.0</td>\n",
       "      <td>-1.358354</td>\n",
       "      <td>-1.340163</td>\n",
       "      <td>1.773209</td>\n",
       "      <td>0.379780</td>\n",
       "      <td>-0.503198</td>\n",
       "      <td>1.800499</td>\n",
       "      <td>0.791461</td>\n",
       "      <td>0.247676</td>\n",
       "      <td>-1.514654</td>\n",
       "      <td>...</td>\n",
       "      <td>0.247998</td>\n",
       "      <td>0.771679</td>\n",
       "      <td>0.909412</td>\n",
       "      <td>-0.689281</td>\n",
       "      <td>-0.327642</td>\n",
       "      <td>-0.139097</td>\n",
       "      <td>-0.055353</td>\n",
       "      <td>-0.059752</td>\n",
       "      <td>378.66</td>\n",
       "      <td>0</td>\n",
       "    </tr>\n",
       "    <tr>\n",
       "      <th>3</th>\n",
       "      <td>1.0</td>\n",
       "      <td>-0.966272</td>\n",
       "      <td>-0.185226</td>\n",
       "      <td>1.792993</td>\n",
       "      <td>-0.863291</td>\n",
       "      <td>-0.010309</td>\n",
       "      <td>1.247203</td>\n",
       "      <td>0.237609</td>\n",
       "      <td>0.377436</td>\n",
       "      <td>-1.387024</td>\n",
       "      <td>...</td>\n",
       "      <td>-0.108300</td>\n",
       "      <td>0.005274</td>\n",
       "      <td>-0.190321</td>\n",
       "      <td>-1.175575</td>\n",
       "      <td>0.647376</td>\n",
       "      <td>-0.221929</td>\n",
       "      <td>0.062723</td>\n",
       "      <td>0.061458</td>\n",
       "      <td>123.50</td>\n",
       "      <td>0</td>\n",
       "    </tr>\n",
       "    <tr>\n",
       "      <th>4</th>\n",
       "      <td>2.0</td>\n",
       "      <td>-1.158233</td>\n",
       "      <td>0.877737</td>\n",
       "      <td>1.548718</td>\n",
       "      <td>0.403034</td>\n",
       "      <td>-0.407193</td>\n",
       "      <td>0.095921</td>\n",
       "      <td>0.592941</td>\n",
       "      <td>-0.270533</td>\n",
       "      <td>0.817739</td>\n",
       "      <td>...</td>\n",
       "      <td>-0.009431</td>\n",
       "      <td>0.798278</td>\n",
       "      <td>-0.137458</td>\n",
       "      <td>0.141267</td>\n",
       "      <td>-0.206010</td>\n",
       "      <td>0.502292</td>\n",
       "      <td>0.219422</td>\n",
       "      <td>0.215153</td>\n",
       "      <td>69.99</td>\n",
       "      <td>0</td>\n",
       "    </tr>\n",
       "  </tbody>\n",
       "</table>\n",
       "<p>5 rows × 31 columns</p>\n",
       "</div>"
      ],
      "text/plain": [
       "   Time        V1        V2        V3        V4        V5        V6        V7  \\\n",
       "0   0.0 -1.359807 -0.072781  2.536347  1.378155 -0.338321  0.462388  0.239599   \n",
       "1   0.0  1.191857  0.266151  0.166480  0.448154  0.060018 -0.082361 -0.078803   \n",
       "2   1.0 -1.358354 -1.340163  1.773209  0.379780 -0.503198  1.800499  0.791461   \n",
       "3   1.0 -0.966272 -0.185226  1.792993 -0.863291 -0.010309  1.247203  0.237609   \n",
       "4   2.0 -1.158233  0.877737  1.548718  0.403034 -0.407193  0.095921  0.592941   \n",
       "\n",
       "         V8        V9  ...       V21       V22       V23       V24       V25  \\\n",
       "0  0.098698  0.363787  ... -0.018307  0.277838 -0.110474  0.066928  0.128539   \n",
       "1  0.085102 -0.255425  ... -0.225775 -0.638672  0.101288 -0.339846  0.167170   \n",
       "2  0.247676 -1.514654  ...  0.247998  0.771679  0.909412 -0.689281 -0.327642   \n",
       "3  0.377436 -1.387024  ... -0.108300  0.005274 -0.190321 -1.175575  0.647376   \n",
       "4 -0.270533  0.817739  ... -0.009431  0.798278 -0.137458  0.141267 -0.206010   \n",
       "\n",
       "        V26       V27       V28  Amount  Class  \n",
       "0 -0.189115  0.133558 -0.021053  149.62      0  \n",
       "1  0.125895 -0.008983  0.014724    2.69      0  \n",
       "2 -0.139097 -0.055353 -0.059752  378.66      0  \n",
       "3 -0.221929  0.062723  0.061458  123.50      0  \n",
       "4  0.502292  0.219422  0.215153   69.99      0  \n",
       "\n",
       "[5 rows x 31 columns]"
      ]
     },
     "execution_count": 4,
     "metadata": {},
     "output_type": "execute_result"
    }
   ],
   "source": [
    "credit_card_data.head()"
   ]
  },
  {
   "cell_type": "code",
   "execution_count": 5,
   "metadata": {
    "colab": {
     "base_uri": "https://localhost:8080/",
     "height": 218
    },
    "id": "iWCP6YJjThIM",
    "outputId": "19097c05-c0ff-4df7-c21b-84c7cde9e7da"
   },
   "outputs": [
    {
     "data": {
      "text/html": [
       "<div>\n",
       "<style scoped>\n",
       "    .dataframe tbody tr th:only-of-type {\n",
       "        vertical-align: middle;\n",
       "    }\n",
       "\n",
       "    .dataframe tbody tr th {\n",
       "        vertical-align: top;\n",
       "    }\n",
       "\n",
       "    .dataframe thead th {\n",
       "        text-align: right;\n",
       "    }\n",
       "</style>\n",
       "<table border=\"1\" class=\"dataframe\">\n",
       "  <thead>\n",
       "    <tr style=\"text-align: right;\">\n",
       "      <th></th>\n",
       "      <th>Time</th>\n",
       "      <th>V1</th>\n",
       "      <th>V2</th>\n",
       "      <th>V3</th>\n",
       "      <th>V4</th>\n",
       "      <th>V5</th>\n",
       "      <th>V6</th>\n",
       "      <th>V7</th>\n",
       "      <th>V8</th>\n",
       "      <th>V9</th>\n",
       "      <th>...</th>\n",
       "      <th>V21</th>\n",
       "      <th>V22</th>\n",
       "      <th>V23</th>\n",
       "      <th>V24</th>\n",
       "      <th>V25</th>\n",
       "      <th>V26</th>\n",
       "      <th>V27</th>\n",
       "      <th>V28</th>\n",
       "      <th>Amount</th>\n",
       "      <th>Class</th>\n",
       "    </tr>\n",
       "  </thead>\n",
       "  <tbody>\n",
       "    <tr>\n",
       "      <th>284802</th>\n",
       "      <td>172786.0</td>\n",
       "      <td>-11.881118</td>\n",
       "      <td>10.071785</td>\n",
       "      <td>-9.834783</td>\n",
       "      <td>-2.066656</td>\n",
       "      <td>-5.364473</td>\n",
       "      <td>-2.606837</td>\n",
       "      <td>-4.918215</td>\n",
       "      <td>7.305334</td>\n",
       "      <td>1.914428</td>\n",
       "      <td>...</td>\n",
       "      <td>0.213454</td>\n",
       "      <td>0.111864</td>\n",
       "      <td>1.014480</td>\n",
       "      <td>-0.509348</td>\n",
       "      <td>1.436807</td>\n",
       "      <td>0.250034</td>\n",
       "      <td>0.943651</td>\n",
       "      <td>0.823731</td>\n",
       "      <td>0.77</td>\n",
       "      <td>0</td>\n",
       "    </tr>\n",
       "    <tr>\n",
       "      <th>284803</th>\n",
       "      <td>172787.0</td>\n",
       "      <td>-0.732789</td>\n",
       "      <td>-0.055080</td>\n",
       "      <td>2.035030</td>\n",
       "      <td>-0.738589</td>\n",
       "      <td>0.868229</td>\n",
       "      <td>1.058415</td>\n",
       "      <td>0.024330</td>\n",
       "      <td>0.294869</td>\n",
       "      <td>0.584800</td>\n",
       "      <td>...</td>\n",
       "      <td>0.214205</td>\n",
       "      <td>0.924384</td>\n",
       "      <td>0.012463</td>\n",
       "      <td>-1.016226</td>\n",
       "      <td>-0.606624</td>\n",
       "      <td>-0.395255</td>\n",
       "      <td>0.068472</td>\n",
       "      <td>-0.053527</td>\n",
       "      <td>24.79</td>\n",
       "      <td>0</td>\n",
       "    </tr>\n",
       "    <tr>\n",
       "      <th>284804</th>\n",
       "      <td>172788.0</td>\n",
       "      <td>1.919565</td>\n",
       "      <td>-0.301254</td>\n",
       "      <td>-3.249640</td>\n",
       "      <td>-0.557828</td>\n",
       "      <td>2.630515</td>\n",
       "      <td>3.031260</td>\n",
       "      <td>-0.296827</td>\n",
       "      <td>0.708417</td>\n",
       "      <td>0.432454</td>\n",
       "      <td>...</td>\n",
       "      <td>0.232045</td>\n",
       "      <td>0.578229</td>\n",
       "      <td>-0.037501</td>\n",
       "      <td>0.640134</td>\n",
       "      <td>0.265745</td>\n",
       "      <td>-0.087371</td>\n",
       "      <td>0.004455</td>\n",
       "      <td>-0.026561</td>\n",
       "      <td>67.88</td>\n",
       "      <td>0</td>\n",
       "    </tr>\n",
       "    <tr>\n",
       "      <th>284805</th>\n",
       "      <td>172788.0</td>\n",
       "      <td>-0.240440</td>\n",
       "      <td>0.530483</td>\n",
       "      <td>0.702510</td>\n",
       "      <td>0.689799</td>\n",
       "      <td>-0.377961</td>\n",
       "      <td>0.623708</td>\n",
       "      <td>-0.686180</td>\n",
       "      <td>0.679145</td>\n",
       "      <td>0.392087</td>\n",
       "      <td>...</td>\n",
       "      <td>0.265245</td>\n",
       "      <td>0.800049</td>\n",
       "      <td>-0.163298</td>\n",
       "      <td>0.123205</td>\n",
       "      <td>-0.569159</td>\n",
       "      <td>0.546668</td>\n",
       "      <td>0.108821</td>\n",
       "      <td>0.104533</td>\n",
       "      <td>10.00</td>\n",
       "      <td>0</td>\n",
       "    </tr>\n",
       "    <tr>\n",
       "      <th>284806</th>\n",
       "      <td>172792.0</td>\n",
       "      <td>-0.533413</td>\n",
       "      <td>-0.189733</td>\n",
       "      <td>0.703337</td>\n",
       "      <td>-0.506271</td>\n",
       "      <td>-0.012546</td>\n",
       "      <td>-0.649617</td>\n",
       "      <td>1.577006</td>\n",
       "      <td>-0.414650</td>\n",
       "      <td>0.486180</td>\n",
       "      <td>...</td>\n",
       "      <td>0.261057</td>\n",
       "      <td>0.643078</td>\n",
       "      <td>0.376777</td>\n",
       "      <td>0.008797</td>\n",
       "      <td>-0.473649</td>\n",
       "      <td>-0.818267</td>\n",
       "      <td>-0.002415</td>\n",
       "      <td>0.013649</td>\n",
       "      <td>217.00</td>\n",
       "      <td>0</td>\n",
       "    </tr>\n",
       "  </tbody>\n",
       "</table>\n",
       "<p>5 rows × 31 columns</p>\n",
       "</div>"
      ],
      "text/plain": [
       "            Time         V1         V2        V3        V4        V5  \\\n",
       "284802  172786.0 -11.881118  10.071785 -9.834783 -2.066656 -5.364473   \n",
       "284803  172787.0  -0.732789  -0.055080  2.035030 -0.738589  0.868229   \n",
       "284804  172788.0   1.919565  -0.301254 -3.249640 -0.557828  2.630515   \n",
       "284805  172788.0  -0.240440   0.530483  0.702510  0.689799 -0.377961   \n",
       "284806  172792.0  -0.533413  -0.189733  0.703337 -0.506271 -0.012546   \n",
       "\n",
       "              V6        V7        V8        V9  ...       V21       V22  \\\n",
       "284802 -2.606837 -4.918215  7.305334  1.914428  ...  0.213454  0.111864   \n",
       "284803  1.058415  0.024330  0.294869  0.584800  ...  0.214205  0.924384   \n",
       "284804  3.031260 -0.296827  0.708417  0.432454  ...  0.232045  0.578229   \n",
       "284805  0.623708 -0.686180  0.679145  0.392087  ...  0.265245  0.800049   \n",
       "284806 -0.649617  1.577006 -0.414650  0.486180  ...  0.261057  0.643078   \n",
       "\n",
       "             V23       V24       V25       V26       V27       V28  Amount  \\\n",
       "284802  1.014480 -0.509348  1.436807  0.250034  0.943651  0.823731    0.77   \n",
       "284803  0.012463 -1.016226 -0.606624 -0.395255  0.068472 -0.053527   24.79   \n",
       "284804 -0.037501  0.640134  0.265745 -0.087371  0.004455 -0.026561   67.88   \n",
       "284805 -0.163298  0.123205 -0.569159  0.546668  0.108821  0.104533   10.00   \n",
       "284806  0.376777  0.008797 -0.473649 -0.818267 -0.002415  0.013649  217.00   \n",
       "\n",
       "        Class  \n",
       "284802      0  \n",
       "284803      0  \n",
       "284804      0  \n",
       "284805      0  \n",
       "284806      0  \n",
       "\n",
       "[5 rows x 31 columns]"
      ]
     },
     "execution_count": 5,
     "metadata": {},
     "output_type": "execute_result"
    }
   ],
   "source": [
    "credit_card_data.tail()"
   ]
  },
  {
   "cell_type": "code",
   "execution_count": 6,
   "metadata": {
    "colab": {
     "base_uri": "https://localhost:8080/"
    },
    "id": "KcCZquvEUD3A",
    "outputId": "a18d75ef-936b-4a52-8589-0acb2cc5fe4e"
   },
   "outputs": [
    {
     "name": "stdout",
     "output_type": "stream",
     "text": [
      "<class 'pandas.core.frame.DataFrame'>\n",
      "RangeIndex: 284807 entries, 0 to 284806\n",
      "Data columns (total 31 columns):\n",
      " #   Column  Non-Null Count   Dtype  \n",
      "---  ------  --------------   -----  \n",
      " 0   Time    284807 non-null  float64\n",
      " 1   V1      284807 non-null  float64\n",
      " 2   V2      284807 non-null  float64\n",
      " 3   V3      284807 non-null  float64\n",
      " 4   V4      284807 non-null  float64\n",
      " 5   V5      284807 non-null  float64\n",
      " 6   V6      284807 non-null  float64\n",
      " 7   V7      284807 non-null  float64\n",
      " 8   V8      284807 non-null  float64\n",
      " 9   V9      284807 non-null  float64\n",
      " 10  V10     284807 non-null  float64\n",
      " 11  V11     284807 non-null  float64\n",
      " 12  V12     284807 non-null  float64\n",
      " 13  V13     284807 non-null  float64\n",
      " 14  V14     284807 non-null  float64\n",
      " 15  V15     284807 non-null  float64\n",
      " 16  V16     284807 non-null  float64\n",
      " 17  V17     284807 non-null  float64\n",
      " 18  V18     284807 non-null  float64\n",
      " 19  V19     284807 non-null  float64\n",
      " 20  V20     284807 non-null  float64\n",
      " 21  V21     284807 non-null  float64\n",
      " 22  V22     284807 non-null  float64\n",
      " 23  V23     284807 non-null  float64\n",
      " 24  V24     284807 non-null  float64\n",
      " 25  V25     284807 non-null  float64\n",
      " 26  V26     284807 non-null  float64\n",
      " 27  V27     284807 non-null  float64\n",
      " 28  V28     284807 non-null  float64\n",
      " 29  Amount  284807 non-null  float64\n",
      " 30  Class   284807 non-null  int64  \n",
      "dtypes: float64(30), int64(1)\n",
      "memory usage: 67.4 MB\n"
     ]
    }
   ],
   "source": [
    "credit_card_data.info()"
   ]
  },
  {
   "cell_type": "code",
   "execution_count": 7,
   "metadata": {
    "colab": {
     "base_uri": "https://localhost:8080/"
    },
    "id": "XxwasmfKUQiA",
    "outputId": "a1cf3e15-9491-40f9-fecb-e5d1895bc8ca"
   },
   "outputs": [
    {
     "data": {
      "text/plain": [
       "Time      0\n",
       "V1        0\n",
       "V2        0\n",
       "V3        0\n",
       "V4        0\n",
       "V5        0\n",
       "V6        0\n",
       "V7        0\n",
       "V8        0\n",
       "V9        0\n",
       "V10       0\n",
       "V11       0\n",
       "V12       0\n",
       "V13       0\n",
       "V14       0\n",
       "V15       0\n",
       "V16       0\n",
       "V17       0\n",
       "V18       0\n",
       "V19       0\n",
       "V20       0\n",
       "V21       0\n",
       "V22       0\n",
       "V23       0\n",
       "V24       0\n",
       "V25       0\n",
       "V26       0\n",
       "V27       0\n",
       "V28       0\n",
       "Amount    0\n",
       "Class     0\n",
       "dtype: int64"
      ]
     },
     "execution_count": 7,
     "metadata": {},
     "output_type": "execute_result"
    }
   ],
   "source": [
    "credit_card_data.isnull().sum()"
   ]
  },
  {
   "cell_type": "code",
   "execution_count": 8,
   "metadata": {
    "colab": {
     "base_uri": "https://localhost:8080/"
    },
    "id": "EIpoKfp5Ugri",
    "outputId": "5150aa81-723c-424d-dcee-80f5c1e37a0f"
   },
   "outputs": [
    {
     "data": {
      "text/plain": [
       "0    284315\n",
       "1       492\n",
       "Name: Class, dtype: int64"
      ]
     },
     "execution_count": 8,
     "metadata": {},
     "output_type": "execute_result"
    }
   ],
   "source": [
    "credit_card_data['Class'].value_counts()"
   ]
  },
  {
   "cell_type": "code",
   "execution_count": 9,
   "metadata": {
    "id": "QNn77bdbU2Lf"
   },
   "outputs": [],
   "source": [
    "legit = credit_card_data[credit_card_data.Class == 0]\n",
    "fraud = credit_card_data[credit_card_data.Class == 1]"
   ]
  },
  {
   "cell_type": "code",
   "execution_count": 10,
   "metadata": {
    "colab": {
     "base_uri": "https://localhost:8080/"
    },
    "id": "zsrMgOdoVnrV",
    "outputId": "3ca353f2-4339-435e-9e5b-b4080bf7f608"
   },
   "outputs": [
    {
     "name": "stdout",
     "output_type": "stream",
     "text": [
      "(284315, 31)\n",
      "(492, 31)\n"
     ]
    }
   ],
   "source": [
    "print(legit.shape)\n",
    "print(fraud.shape)"
   ]
  },
  {
   "cell_type": "code",
   "execution_count": 12,
   "metadata": {
    "colab": {
     "base_uri": "https://localhost:8080/"
    },
    "id": "1s3KGshBVsTb",
    "outputId": "a5a35c33-3ca5-47d0-d060-dc53c2497f71"
   },
   "outputs": [
    {
     "data": {
      "text/plain": [
       "count    284315.000000\n",
       "mean         88.291022\n",
       "std         250.105092\n",
       "min           0.000000\n",
       "25%           5.650000\n",
       "50%          22.000000\n",
       "75%          77.050000\n",
       "max       25691.160000\n",
       "Name: Amount, dtype: float64"
      ]
     },
     "execution_count": 12,
     "metadata": {},
     "output_type": "execute_result"
    }
   ],
   "source": [
    "legit.Amount.describe()"
   ]
  },
  {
   "cell_type": "code",
   "execution_count": 13,
   "metadata": {
    "colab": {
     "base_uri": "https://localhost:8080/"
    },
    "id": "KkU3Mzr5V7fR",
    "outputId": "30e87d03-1587-45e9-bc27-fd7bc3a5a150"
   },
   "outputs": [
    {
     "data": {
      "text/plain": [
       "count     492.000000\n",
       "mean      122.211321\n",
       "std       256.683288\n",
       "min         0.000000\n",
       "25%         1.000000\n",
       "50%         9.250000\n",
       "75%       105.890000\n",
       "max      2125.870000\n",
       "Name: Amount, dtype: float64"
      ]
     },
     "execution_count": 13,
     "metadata": {},
     "output_type": "execute_result"
    }
   ],
   "source": [
    "fraud.Amount.describe()"
   ]
  },
  {
   "cell_type": "code",
   "execution_count": 14,
   "metadata": {
    "colab": {
     "base_uri": "https://localhost:8080/",
     "height": 158
    },
    "id": "aFUMMHwYWMvp",
    "outputId": "02e34b2d-07d0-4e64-9e79-a59bc22d7ed8"
   },
   "outputs": [
    {
     "data": {
      "text/html": [
       "<div>\n",
       "<style scoped>\n",
       "    .dataframe tbody tr th:only-of-type {\n",
       "        vertical-align: middle;\n",
       "    }\n",
       "\n",
       "    .dataframe tbody tr th {\n",
       "        vertical-align: top;\n",
       "    }\n",
       "\n",
       "    .dataframe thead th {\n",
       "        text-align: right;\n",
       "    }\n",
       "</style>\n",
       "<table border=\"1\" class=\"dataframe\">\n",
       "  <thead>\n",
       "    <tr style=\"text-align: right;\">\n",
       "      <th></th>\n",
       "      <th>Time</th>\n",
       "      <th>V1</th>\n",
       "      <th>V2</th>\n",
       "      <th>V3</th>\n",
       "      <th>V4</th>\n",
       "      <th>V5</th>\n",
       "      <th>V6</th>\n",
       "      <th>V7</th>\n",
       "      <th>V8</th>\n",
       "      <th>V9</th>\n",
       "      <th>...</th>\n",
       "      <th>V20</th>\n",
       "      <th>V21</th>\n",
       "      <th>V22</th>\n",
       "      <th>V23</th>\n",
       "      <th>V24</th>\n",
       "      <th>V25</th>\n",
       "      <th>V26</th>\n",
       "      <th>V27</th>\n",
       "      <th>V28</th>\n",
       "      <th>Amount</th>\n",
       "    </tr>\n",
       "    <tr>\n",
       "      <th>Class</th>\n",
       "      <th></th>\n",
       "      <th></th>\n",
       "      <th></th>\n",
       "      <th></th>\n",
       "      <th></th>\n",
       "      <th></th>\n",
       "      <th></th>\n",
       "      <th></th>\n",
       "      <th></th>\n",
       "      <th></th>\n",
       "      <th></th>\n",
       "      <th></th>\n",
       "      <th></th>\n",
       "      <th></th>\n",
       "      <th></th>\n",
       "      <th></th>\n",
       "      <th></th>\n",
       "      <th></th>\n",
       "      <th></th>\n",
       "      <th></th>\n",
       "      <th></th>\n",
       "    </tr>\n",
       "  </thead>\n",
       "  <tbody>\n",
       "    <tr>\n",
       "      <th>0</th>\n",
       "      <td>94838.202258</td>\n",
       "      <td>0.008258</td>\n",
       "      <td>-0.006271</td>\n",
       "      <td>0.012171</td>\n",
       "      <td>-0.007860</td>\n",
       "      <td>0.005453</td>\n",
       "      <td>0.002419</td>\n",
       "      <td>0.009637</td>\n",
       "      <td>-0.000987</td>\n",
       "      <td>0.004467</td>\n",
       "      <td>...</td>\n",
       "      <td>-0.000644</td>\n",
       "      <td>-0.001235</td>\n",
       "      <td>-0.000024</td>\n",
       "      <td>0.000070</td>\n",
       "      <td>0.000182</td>\n",
       "      <td>-0.000072</td>\n",
       "      <td>-0.000089</td>\n",
       "      <td>-0.000295</td>\n",
       "      <td>-0.000131</td>\n",
       "      <td>88.291022</td>\n",
       "    </tr>\n",
       "    <tr>\n",
       "      <th>1</th>\n",
       "      <td>80746.806911</td>\n",
       "      <td>-4.771948</td>\n",
       "      <td>3.623778</td>\n",
       "      <td>-7.033281</td>\n",
       "      <td>4.542029</td>\n",
       "      <td>-3.151225</td>\n",
       "      <td>-1.397737</td>\n",
       "      <td>-5.568731</td>\n",
       "      <td>0.570636</td>\n",
       "      <td>-2.581123</td>\n",
       "      <td>...</td>\n",
       "      <td>0.372319</td>\n",
       "      <td>0.713588</td>\n",
       "      <td>0.014049</td>\n",
       "      <td>-0.040308</td>\n",
       "      <td>-0.105130</td>\n",
       "      <td>0.041449</td>\n",
       "      <td>0.051648</td>\n",
       "      <td>0.170575</td>\n",
       "      <td>0.075667</td>\n",
       "      <td>122.211321</td>\n",
       "    </tr>\n",
       "  </tbody>\n",
       "</table>\n",
       "<p>2 rows × 30 columns</p>\n",
       "</div>"
      ],
      "text/plain": [
       "               Time        V1        V2        V3        V4        V5  \\\n",
       "Class                                                                   \n",
       "0      94838.202258  0.008258 -0.006271  0.012171 -0.007860  0.005453   \n",
       "1      80746.806911 -4.771948  3.623778 -7.033281  4.542029 -3.151225   \n",
       "\n",
       "             V6        V7        V8        V9  ...       V20       V21  \\\n",
       "Class                                          ...                       \n",
       "0      0.002419  0.009637 -0.000987  0.004467  ... -0.000644 -0.001235   \n",
       "1     -1.397737 -5.568731  0.570636 -2.581123  ...  0.372319  0.713588   \n",
       "\n",
       "            V22       V23       V24       V25       V26       V27       V28  \\\n",
       "Class                                                                         \n",
       "0     -0.000024  0.000070  0.000182 -0.000072 -0.000089 -0.000295 -0.000131   \n",
       "1      0.014049 -0.040308 -0.105130  0.041449  0.051648  0.170575  0.075667   \n",
       "\n",
       "           Amount  \n",
       "Class              \n",
       "0       88.291022  \n",
       "1      122.211321  \n",
       "\n",
       "[2 rows x 30 columns]"
      ]
     },
     "execution_count": 14,
     "metadata": {},
     "output_type": "execute_result"
    }
   ],
   "source": [
    "credit_card_data.groupby('Class').mean()"
   ]
  },
  {
   "cell_type": "code",
   "execution_count": 15,
   "metadata": {
    "id": "QtWT13mKWjJ_"
   },
   "outputs": [],
   "source": [
    "legit_sample = legit.sample(n=492)"
   ]
  },
  {
   "cell_type": "code",
   "execution_count": 16,
   "metadata": {
    "id": "0yiXrYiRXcnE"
   },
   "outputs": [],
   "source": [
    "new_dataset = pd.concat([legit_sample, fraud], axis=0)"
   ]
  },
  {
   "cell_type": "code",
   "execution_count": 17,
   "metadata": {
    "colab": {
     "base_uri": "https://localhost:8080/",
     "height": 218
    },
    "id": "UuLw43AXX0bq",
    "outputId": "01db7f18-69a0-4579-b5c8-e51ca4f61096"
   },
   "outputs": [
    {
     "data": {
      "text/html": [
       "<div>\n",
       "<style scoped>\n",
       "    .dataframe tbody tr th:only-of-type {\n",
       "        vertical-align: middle;\n",
       "    }\n",
       "\n",
       "    .dataframe tbody tr th {\n",
       "        vertical-align: top;\n",
       "    }\n",
       "\n",
       "    .dataframe thead th {\n",
       "        text-align: right;\n",
       "    }\n",
       "</style>\n",
       "<table border=\"1\" class=\"dataframe\">\n",
       "  <thead>\n",
       "    <tr style=\"text-align: right;\">\n",
       "      <th></th>\n",
       "      <th>Time</th>\n",
       "      <th>V1</th>\n",
       "      <th>V2</th>\n",
       "      <th>V3</th>\n",
       "      <th>V4</th>\n",
       "      <th>V5</th>\n",
       "      <th>V6</th>\n",
       "      <th>V7</th>\n",
       "      <th>V8</th>\n",
       "      <th>V9</th>\n",
       "      <th>...</th>\n",
       "      <th>V21</th>\n",
       "      <th>V22</th>\n",
       "      <th>V23</th>\n",
       "      <th>V24</th>\n",
       "      <th>V25</th>\n",
       "      <th>V26</th>\n",
       "      <th>V27</th>\n",
       "      <th>V28</th>\n",
       "      <th>Amount</th>\n",
       "      <th>Class</th>\n",
       "    </tr>\n",
       "  </thead>\n",
       "  <tbody>\n",
       "    <tr>\n",
       "      <th>132469</th>\n",
       "      <td>79998.0</td>\n",
       "      <td>0.794488</td>\n",
       "      <td>-0.374689</td>\n",
       "      <td>1.515845</td>\n",
       "      <td>2.871244</td>\n",
       "      <td>-0.233350</td>\n",
       "      <td>2.635541</td>\n",
       "      <td>-1.001466</td>\n",
       "      <td>0.909211</td>\n",
       "      <td>0.805104</td>\n",
       "      <td>...</td>\n",
       "      <td>-0.166158</td>\n",
       "      <td>-0.058640</td>\n",
       "      <td>0.127486</td>\n",
       "      <td>-0.971666</td>\n",
       "      <td>0.054220</td>\n",
       "      <td>0.066431</td>\n",
       "      <td>0.117705</td>\n",
       "      <td>0.025309</td>\n",
       "      <td>54.86</td>\n",
       "      <td>0</td>\n",
       "    </tr>\n",
       "    <tr>\n",
       "      <th>253923</th>\n",
       "      <td>156494.0</td>\n",
       "      <td>1.735629</td>\n",
       "      <td>-0.424067</td>\n",
       "      <td>-1.721274</td>\n",
       "      <td>0.506187</td>\n",
       "      <td>-0.157993</td>\n",
       "      <td>-0.970720</td>\n",
       "      <td>0.081094</td>\n",
       "      <td>-0.076729</td>\n",
       "      <td>0.947752</td>\n",
       "      <td>...</td>\n",
       "      <td>-0.136180</td>\n",
       "      <td>-0.484363</td>\n",
       "      <td>0.102637</td>\n",
       "      <td>-0.141327</td>\n",
       "      <td>-0.209747</td>\n",
       "      <td>-0.116027</td>\n",
       "      <td>-0.036389</td>\n",
       "      <td>-0.010524</td>\n",
       "      <td>126.44</td>\n",
       "      <td>0</td>\n",
       "    </tr>\n",
       "    <tr>\n",
       "      <th>99459</th>\n",
       "      <td>67128.0</td>\n",
       "      <td>-0.473955</td>\n",
       "      <td>-0.166953</td>\n",
       "      <td>-0.092222</td>\n",
       "      <td>0.217894</td>\n",
       "      <td>2.859102</td>\n",
       "      <td>3.684491</td>\n",
       "      <td>0.258788</td>\n",
       "      <td>0.726765</td>\n",
       "      <td>-0.284158</td>\n",
       "      <td>...</td>\n",
       "      <td>-0.070253</td>\n",
       "      <td>-0.287106</td>\n",
       "      <td>0.025957</td>\n",
       "      <td>0.996737</td>\n",
       "      <td>0.413465</td>\n",
       "      <td>-0.297046</td>\n",
       "      <td>-0.153171</td>\n",
       "      <td>-0.197682</td>\n",
       "      <td>97.42</td>\n",
       "      <td>0</td>\n",
       "    </tr>\n",
       "    <tr>\n",
       "      <th>267839</th>\n",
       "      <td>162951.0</td>\n",
       "      <td>-1.347429</td>\n",
       "      <td>-0.083430</td>\n",
       "      <td>1.914930</td>\n",
       "      <td>-0.983736</td>\n",
       "      <td>1.131603</td>\n",
       "      <td>-0.513616</td>\n",
       "      <td>0.086509</td>\n",
       "      <td>0.208079</td>\n",
       "      <td>0.250636</td>\n",
       "      <td>...</td>\n",
       "      <td>-0.130227</td>\n",
       "      <td>-0.674715</td>\n",
       "      <td>-0.101054</td>\n",
       "      <td>0.524812</td>\n",
       "      <td>0.529595</td>\n",
       "      <td>-0.606867</td>\n",
       "      <td>0.007330</td>\n",
       "      <td>0.086405</td>\n",
       "      <td>13.99</td>\n",
       "      <td>0</td>\n",
       "    </tr>\n",
       "    <tr>\n",
       "      <th>19786</th>\n",
       "      <td>30558.0</td>\n",
       "      <td>1.171674</td>\n",
       "      <td>0.227320</td>\n",
       "      <td>0.289589</td>\n",
       "      <td>0.530368</td>\n",
       "      <td>-0.162264</td>\n",
       "      <td>-0.286743</td>\n",
       "      <td>-0.123704</td>\n",
       "      <td>0.106217</td>\n",
       "      <td>-0.166848</td>\n",
       "      <td>...</td>\n",
       "      <td>-0.213801</td>\n",
       "      <td>-0.637680</td>\n",
       "      <td>0.151814</td>\n",
       "      <td>-0.033823</td>\n",
       "      <td>0.099602</td>\n",
       "      <td>0.108333</td>\n",
       "      <td>-0.013014</td>\n",
       "      <td>0.016160</td>\n",
       "      <td>0.99</td>\n",
       "      <td>0</td>\n",
       "    </tr>\n",
       "  </tbody>\n",
       "</table>\n",
       "<p>5 rows × 31 columns</p>\n",
       "</div>"
      ],
      "text/plain": [
       "            Time        V1        V2        V3        V4        V5        V6  \\\n",
       "132469   79998.0  0.794488 -0.374689  1.515845  2.871244 -0.233350  2.635541   \n",
       "253923  156494.0  1.735629 -0.424067 -1.721274  0.506187 -0.157993 -0.970720   \n",
       "99459    67128.0 -0.473955 -0.166953 -0.092222  0.217894  2.859102  3.684491   \n",
       "267839  162951.0 -1.347429 -0.083430  1.914930 -0.983736  1.131603 -0.513616   \n",
       "19786    30558.0  1.171674  0.227320  0.289589  0.530368 -0.162264 -0.286743   \n",
       "\n",
       "              V7        V8        V9  ...       V21       V22       V23  \\\n",
       "132469 -1.001466  0.909211  0.805104  ... -0.166158 -0.058640  0.127486   \n",
       "253923  0.081094 -0.076729  0.947752  ... -0.136180 -0.484363  0.102637   \n",
       "99459   0.258788  0.726765 -0.284158  ... -0.070253 -0.287106  0.025957   \n",
       "267839  0.086509  0.208079  0.250636  ... -0.130227 -0.674715 -0.101054   \n",
       "19786  -0.123704  0.106217 -0.166848  ... -0.213801 -0.637680  0.151814   \n",
       "\n",
       "             V24       V25       V26       V27       V28  Amount  Class  \n",
       "132469 -0.971666  0.054220  0.066431  0.117705  0.025309   54.86      0  \n",
       "253923 -0.141327 -0.209747 -0.116027 -0.036389 -0.010524  126.44      0  \n",
       "99459   0.996737  0.413465 -0.297046 -0.153171 -0.197682   97.42      0  \n",
       "267839  0.524812  0.529595 -0.606867  0.007330  0.086405   13.99      0  \n",
       "19786  -0.033823  0.099602  0.108333 -0.013014  0.016160    0.99      0  \n",
       "\n",
       "[5 rows x 31 columns]"
      ]
     },
     "execution_count": 17,
     "metadata": {},
     "output_type": "execute_result"
    }
   ],
   "source": [
    "new_dataset.head()"
   ]
  },
  {
   "cell_type": "code",
   "execution_count": 18,
   "metadata": {
    "colab": {
     "base_uri": "https://localhost:8080/",
     "height": 218
    },
    "id": "n_Rjt1qDX3AQ",
    "outputId": "c2624d05-e2bf-41c5-e858-37f29314d18d",
    "scrolled": true
   },
   "outputs": [
    {
     "data": {
      "text/html": [
       "<div>\n",
       "<style scoped>\n",
       "    .dataframe tbody tr th:only-of-type {\n",
       "        vertical-align: middle;\n",
       "    }\n",
       "\n",
       "    .dataframe tbody tr th {\n",
       "        vertical-align: top;\n",
       "    }\n",
       "\n",
       "    .dataframe thead th {\n",
       "        text-align: right;\n",
       "    }\n",
       "</style>\n",
       "<table border=\"1\" class=\"dataframe\">\n",
       "  <thead>\n",
       "    <tr style=\"text-align: right;\">\n",
       "      <th></th>\n",
       "      <th>Time</th>\n",
       "      <th>V1</th>\n",
       "      <th>V2</th>\n",
       "      <th>V3</th>\n",
       "      <th>V4</th>\n",
       "      <th>V5</th>\n",
       "      <th>V6</th>\n",
       "      <th>V7</th>\n",
       "      <th>V8</th>\n",
       "      <th>V9</th>\n",
       "      <th>...</th>\n",
       "      <th>V21</th>\n",
       "      <th>V22</th>\n",
       "      <th>V23</th>\n",
       "      <th>V24</th>\n",
       "      <th>V25</th>\n",
       "      <th>V26</th>\n",
       "      <th>V27</th>\n",
       "      <th>V28</th>\n",
       "      <th>Amount</th>\n",
       "      <th>Class</th>\n",
       "    </tr>\n",
       "  </thead>\n",
       "  <tbody>\n",
       "    <tr>\n",
       "      <th>279863</th>\n",
       "      <td>169142.0</td>\n",
       "      <td>-1.927883</td>\n",
       "      <td>1.125653</td>\n",
       "      <td>-4.518331</td>\n",
       "      <td>1.749293</td>\n",
       "      <td>-1.566487</td>\n",
       "      <td>-2.010494</td>\n",
       "      <td>-0.882850</td>\n",
       "      <td>0.697211</td>\n",
       "      <td>-2.064945</td>\n",
       "      <td>...</td>\n",
       "      <td>0.778584</td>\n",
       "      <td>-0.319189</td>\n",
       "      <td>0.639419</td>\n",
       "      <td>-0.294885</td>\n",
       "      <td>0.537503</td>\n",
       "      <td>0.788395</td>\n",
       "      <td>0.292680</td>\n",
       "      <td>0.147968</td>\n",
       "      <td>390.00</td>\n",
       "      <td>1</td>\n",
       "    </tr>\n",
       "    <tr>\n",
       "      <th>280143</th>\n",
       "      <td>169347.0</td>\n",
       "      <td>1.378559</td>\n",
       "      <td>1.289381</td>\n",
       "      <td>-5.004247</td>\n",
       "      <td>1.411850</td>\n",
       "      <td>0.442581</td>\n",
       "      <td>-1.326536</td>\n",
       "      <td>-1.413170</td>\n",
       "      <td>0.248525</td>\n",
       "      <td>-1.127396</td>\n",
       "      <td>...</td>\n",
       "      <td>0.370612</td>\n",
       "      <td>0.028234</td>\n",
       "      <td>-0.145640</td>\n",
       "      <td>-0.081049</td>\n",
       "      <td>0.521875</td>\n",
       "      <td>0.739467</td>\n",
       "      <td>0.389152</td>\n",
       "      <td>0.186637</td>\n",
       "      <td>0.76</td>\n",
       "      <td>1</td>\n",
       "    </tr>\n",
       "    <tr>\n",
       "      <th>280149</th>\n",
       "      <td>169351.0</td>\n",
       "      <td>-0.676143</td>\n",
       "      <td>1.126366</td>\n",
       "      <td>-2.213700</td>\n",
       "      <td>0.468308</td>\n",
       "      <td>-1.120541</td>\n",
       "      <td>-0.003346</td>\n",
       "      <td>-2.234739</td>\n",
       "      <td>1.210158</td>\n",
       "      <td>-0.652250</td>\n",
       "      <td>...</td>\n",
       "      <td>0.751826</td>\n",
       "      <td>0.834108</td>\n",
       "      <td>0.190944</td>\n",
       "      <td>0.032070</td>\n",
       "      <td>-0.739695</td>\n",
       "      <td>0.471111</td>\n",
       "      <td>0.385107</td>\n",
       "      <td>0.194361</td>\n",
       "      <td>77.89</td>\n",
       "      <td>1</td>\n",
       "    </tr>\n",
       "    <tr>\n",
       "      <th>281144</th>\n",
       "      <td>169966.0</td>\n",
       "      <td>-3.113832</td>\n",
       "      <td>0.585864</td>\n",
       "      <td>-5.399730</td>\n",
       "      <td>1.817092</td>\n",
       "      <td>-0.840618</td>\n",
       "      <td>-2.943548</td>\n",
       "      <td>-2.208002</td>\n",
       "      <td>1.058733</td>\n",
       "      <td>-1.632333</td>\n",
       "      <td>...</td>\n",
       "      <td>0.583276</td>\n",
       "      <td>-0.269209</td>\n",
       "      <td>-0.456108</td>\n",
       "      <td>-0.183659</td>\n",
       "      <td>-0.328168</td>\n",
       "      <td>0.606116</td>\n",
       "      <td>0.884876</td>\n",
       "      <td>-0.253700</td>\n",
       "      <td>245.00</td>\n",
       "      <td>1</td>\n",
       "    </tr>\n",
       "    <tr>\n",
       "      <th>281674</th>\n",
       "      <td>170348.0</td>\n",
       "      <td>1.991976</td>\n",
       "      <td>0.158476</td>\n",
       "      <td>-2.583441</td>\n",
       "      <td>0.408670</td>\n",
       "      <td>1.151147</td>\n",
       "      <td>-0.096695</td>\n",
       "      <td>0.223050</td>\n",
       "      <td>-0.068384</td>\n",
       "      <td>0.577829</td>\n",
       "      <td>...</td>\n",
       "      <td>-0.164350</td>\n",
       "      <td>-0.295135</td>\n",
       "      <td>-0.072173</td>\n",
       "      <td>-0.450261</td>\n",
       "      <td>0.313267</td>\n",
       "      <td>-0.289617</td>\n",
       "      <td>0.002988</td>\n",
       "      <td>-0.015309</td>\n",
       "      <td>42.53</td>\n",
       "      <td>1</td>\n",
       "    </tr>\n",
       "  </tbody>\n",
       "</table>\n",
       "<p>5 rows × 31 columns</p>\n",
       "</div>"
      ],
      "text/plain": [
       "            Time        V1        V2        V3        V4        V5        V6  \\\n",
       "279863  169142.0 -1.927883  1.125653 -4.518331  1.749293 -1.566487 -2.010494   \n",
       "280143  169347.0  1.378559  1.289381 -5.004247  1.411850  0.442581 -1.326536   \n",
       "280149  169351.0 -0.676143  1.126366 -2.213700  0.468308 -1.120541 -0.003346   \n",
       "281144  169966.0 -3.113832  0.585864 -5.399730  1.817092 -0.840618 -2.943548   \n",
       "281674  170348.0  1.991976  0.158476 -2.583441  0.408670  1.151147 -0.096695   \n",
       "\n",
       "              V7        V8        V9  ...       V21       V22       V23  \\\n",
       "279863 -0.882850  0.697211 -2.064945  ...  0.778584 -0.319189  0.639419   \n",
       "280143 -1.413170  0.248525 -1.127396  ...  0.370612  0.028234 -0.145640   \n",
       "280149 -2.234739  1.210158 -0.652250  ...  0.751826  0.834108  0.190944   \n",
       "281144 -2.208002  1.058733 -1.632333  ...  0.583276 -0.269209 -0.456108   \n",
       "281674  0.223050 -0.068384  0.577829  ... -0.164350 -0.295135 -0.072173   \n",
       "\n",
       "             V24       V25       V26       V27       V28  Amount  Class  \n",
       "279863 -0.294885  0.537503  0.788395  0.292680  0.147968  390.00      1  \n",
       "280143 -0.081049  0.521875  0.739467  0.389152  0.186637    0.76      1  \n",
       "280149  0.032070 -0.739695  0.471111  0.385107  0.194361   77.89      1  \n",
       "281144 -0.183659 -0.328168  0.606116  0.884876 -0.253700  245.00      1  \n",
       "281674 -0.450261  0.313267 -0.289617  0.002988 -0.015309   42.53      1  \n",
       "\n",
       "[5 rows x 31 columns]"
      ]
     },
     "execution_count": 18,
     "metadata": {},
     "output_type": "execute_result"
    }
   ],
   "source": [
    "new_dataset.tail()"
   ]
  },
  {
   "cell_type": "code",
   "execution_count": 1,
   "metadata": {
    "collapsed": true
   },
   "outputs": [
    {
     "name": "stdout",
     "output_type": "stream",
     "text": [
      "Requirement already satisfied: ipympl in /Users/adityamishra/anaconda3/lib/python3.10/site-packages (0.9.3)\n",
      "Requirement already satisfied: traitlets<6 in /Users/adityamishra/anaconda3/lib/python3.10/site-packages (from ipympl) (5.7.1)\n",
      "Requirement already satisfied: ipython-genutils in /Users/adityamishra/anaconda3/lib/python3.10/site-packages (from ipympl) (0.2.0)\n",
      "Requirement already satisfied: ipywidgets<9,>=7.6.0 in /Users/adityamishra/anaconda3/lib/python3.10/site-packages (from ipympl) (7.6.5)\n",
      "Requirement already satisfied: ipython<9 in /Users/adityamishra/anaconda3/lib/python3.10/site-packages (from ipympl) (8.10.0)\n",
      "Requirement already satisfied: numpy in /Users/adityamishra/anaconda3/lib/python3.10/site-packages (from ipympl) (1.23.5)\n",
      "Requirement already satisfied: matplotlib<4,>=3.4.0 in /Users/adityamishra/anaconda3/lib/python3.10/site-packages (from ipympl) (3.7.0)\n",
      "Requirement already satisfied: pillow in /Users/adityamishra/anaconda3/lib/python3.10/site-packages (from ipympl) (9.4.0)\n",
      "Requirement already satisfied: pexpect>4.3 in /Users/adityamishra/anaconda3/lib/python3.10/site-packages (from ipython<9->ipympl) (4.8.0)\n",
      "Requirement already satisfied: pygments>=2.4.0 in /Users/adityamishra/anaconda3/lib/python3.10/site-packages (from ipython<9->ipympl) (2.11.2)\n",
      "Requirement already satisfied: jedi>=0.16 in /Users/adityamishra/anaconda3/lib/python3.10/site-packages (from ipython<9->ipympl) (0.18.1)\n",
      "Requirement already satisfied: backcall in /Users/adityamishra/anaconda3/lib/python3.10/site-packages (from ipython<9->ipympl) (0.2.0)\n",
      "Requirement already satisfied: appnope in /Users/adityamishra/anaconda3/lib/python3.10/site-packages (from ipython<9->ipympl) (0.1.2)\n",
      "Requirement already satisfied: prompt-toolkit<3.1.0,>=3.0.30 in /Users/adityamishra/anaconda3/lib/python3.10/site-packages (from ipython<9->ipympl) (3.0.36)\n",
      "Requirement already satisfied: decorator in /Users/adityamishra/anaconda3/lib/python3.10/site-packages (from ipython<9->ipympl) (5.1.1)\n",
      "Requirement already satisfied: stack-data in /Users/adityamishra/anaconda3/lib/python3.10/site-packages (from ipython<9->ipympl) (0.2.0)\n",
      "Requirement already satisfied: matplotlib-inline in /Users/adityamishra/anaconda3/lib/python3.10/site-packages (from ipython<9->ipympl) (0.1.6)\n",
      "Requirement already satisfied: pickleshare in /Users/adityamishra/anaconda3/lib/python3.10/site-packages (from ipython<9->ipympl) (0.7.5)\n",
      "Requirement already satisfied: nbformat>=4.2.0 in /Users/adityamishra/anaconda3/lib/python3.10/site-packages (from ipywidgets<9,>=7.6.0->ipympl) (5.7.0)\n",
      "Requirement already satisfied: ipykernel>=4.5.1 in /Users/adityamishra/anaconda3/lib/python3.10/site-packages (from ipywidgets<9,>=7.6.0->ipympl) (6.19.2)\n",
      "Requirement already satisfied: widgetsnbextension~=3.5.0 in /Users/adityamishra/anaconda3/lib/python3.10/site-packages (from ipywidgets<9,>=7.6.0->ipympl) (3.5.2)\n",
      "Requirement already satisfied: jupyterlab-widgets>=1.0.0 in /Users/adityamishra/anaconda3/lib/python3.10/site-packages (from ipywidgets<9,>=7.6.0->ipympl) (1.0.0)\n",
      "Requirement already satisfied: packaging>=20.0 in /Users/adityamishra/anaconda3/lib/python3.10/site-packages (from matplotlib<4,>=3.4.0->ipympl) (22.0)\n",
      "Requirement already satisfied: fonttools>=4.22.0 in /Users/adityamishra/anaconda3/lib/python3.10/site-packages (from matplotlib<4,>=3.4.0->ipympl) (4.25.0)\n",
      "Requirement already satisfied: cycler>=0.10 in /Users/adityamishra/anaconda3/lib/python3.10/site-packages (from matplotlib<4,>=3.4.0->ipympl) (0.11.0)\n",
      "Requirement already satisfied: kiwisolver>=1.0.1 in /Users/adityamishra/anaconda3/lib/python3.10/site-packages (from matplotlib<4,>=3.4.0->ipympl) (1.4.4)\n",
      "Requirement already satisfied: contourpy>=1.0.1 in /Users/adityamishra/anaconda3/lib/python3.10/site-packages (from matplotlib<4,>=3.4.0->ipympl) (1.0.5)\n",
      "Requirement already satisfied: pyparsing>=2.3.1 in /Users/adityamishra/anaconda3/lib/python3.10/site-packages (from matplotlib<4,>=3.4.0->ipympl) (3.0.9)\n",
      "Requirement already satisfied: python-dateutil>=2.7 in /Users/adityamishra/anaconda3/lib/python3.10/site-packages (from matplotlib<4,>=3.4.0->ipympl) (2.8.2)\n",
      "Requirement already satisfied: comm>=0.1.1 in /Users/adityamishra/anaconda3/lib/python3.10/site-packages (from ipykernel>=4.5.1->ipywidgets<9,>=7.6.0->ipympl) (0.1.2)\n",
      "Requirement already satisfied: debugpy>=1.0 in /Users/adityamishra/anaconda3/lib/python3.10/site-packages (from ipykernel>=4.5.1->ipywidgets<9,>=7.6.0->ipympl) (1.5.1)\n",
      "Requirement already satisfied: jupyter-client>=6.1.12 in /Users/adityamishra/anaconda3/lib/python3.10/site-packages (from ipykernel>=4.5.1->ipywidgets<9,>=7.6.0->ipympl) (7.3.4)\n",
      "Requirement already satisfied: nest-asyncio in /Users/adityamishra/anaconda3/lib/python3.10/site-packages (from ipykernel>=4.5.1->ipywidgets<9,>=7.6.0->ipympl) (1.5.6)\n",
      "Requirement already satisfied: pyzmq>=17 in /Users/adityamishra/anaconda3/lib/python3.10/site-packages (from ipykernel>=4.5.1->ipywidgets<9,>=7.6.0->ipympl) (23.2.0)\n",
      "Requirement already satisfied: tornado>=6.1 in /Users/adityamishra/anaconda3/lib/python3.10/site-packages (from ipykernel>=4.5.1->ipywidgets<9,>=7.6.0->ipympl) (6.1)\n",
      "Requirement already satisfied: psutil in /Users/adityamishra/anaconda3/lib/python3.10/site-packages (from ipykernel>=4.5.1->ipywidgets<9,>=7.6.0->ipympl) (5.9.0)\n",
      "Requirement already satisfied: parso<0.9.0,>=0.8.0 in /Users/adityamishra/anaconda3/lib/python3.10/site-packages (from jedi>=0.16->ipython<9->ipympl) (0.8.3)\n",
      "Requirement already satisfied: fastjsonschema in /Users/adityamishra/anaconda3/lib/python3.10/site-packages (from nbformat>=4.2.0->ipywidgets<9,>=7.6.0->ipympl) (2.16.2)\n",
      "Requirement already satisfied: jsonschema>=2.6 in /Users/adityamishra/anaconda3/lib/python3.10/site-packages (from nbformat>=4.2.0->ipywidgets<9,>=7.6.0->ipympl) (4.17.3)\n",
      "Requirement already satisfied: jupyter-core in /Users/adityamishra/anaconda3/lib/python3.10/site-packages (from nbformat>=4.2.0->ipywidgets<9,>=7.6.0->ipympl) (5.2.0)\n",
      "Requirement already satisfied: ptyprocess>=0.5 in /Users/adityamishra/anaconda3/lib/python3.10/site-packages (from pexpect>4.3->ipython<9->ipympl) (0.7.0)\n",
      "Requirement already satisfied: wcwidth in /Users/adityamishra/anaconda3/lib/python3.10/site-packages (from prompt-toolkit<3.1.0,>=3.0.30->ipython<9->ipympl) (0.2.5)\n",
      "Requirement already satisfied: six>=1.5 in /Users/adityamishra/anaconda3/lib/python3.10/site-packages (from python-dateutil>=2.7->matplotlib<4,>=3.4.0->ipympl) (1.16.0)\n",
      "Requirement already satisfied: notebook>=4.4.1 in /Users/adityamishra/anaconda3/lib/python3.10/site-packages (from widgetsnbextension~=3.5.0->ipywidgets<9,>=7.6.0->ipympl) (6.5.2)\n",
      "Requirement already satisfied: executing in /Users/adityamishra/anaconda3/lib/python3.10/site-packages (from stack-data->ipython<9->ipympl) (0.8.3)\n",
      "Requirement already satisfied: asttokens in /Users/adityamishra/anaconda3/lib/python3.10/site-packages (from stack-data->ipython<9->ipympl) (2.0.5)\n",
      "Requirement already satisfied: pure-eval in /Users/adityamishra/anaconda3/lib/python3.10/site-packages (from stack-data->ipython<9->ipympl) (0.2.2)\n",
      "Requirement already satisfied: attrs>=17.4.0 in /Users/adityamishra/anaconda3/lib/python3.10/site-packages (from jsonschema>=2.6->nbformat>=4.2.0->ipywidgets<9,>=7.6.0->ipympl) (22.1.0)\n",
      "Requirement already satisfied: pyrsistent!=0.17.0,!=0.17.1,!=0.17.2,>=0.14.0 in /Users/adityamishra/anaconda3/lib/python3.10/site-packages (from jsonschema>=2.6->nbformat>=4.2.0->ipywidgets<9,>=7.6.0->ipympl) (0.18.0)\n",
      "Requirement already satisfied: entrypoints in /Users/adityamishra/anaconda3/lib/python3.10/site-packages (from jupyter-client>=6.1.12->ipykernel>=4.5.1->ipywidgets<9,>=7.6.0->ipympl) (0.4)\n",
      "Requirement already satisfied: platformdirs>=2.5 in /Users/adityamishra/anaconda3/lib/python3.10/site-packages (from jupyter-core->nbformat>=4.2.0->ipywidgets<9,>=7.6.0->ipympl) (2.5.2)\n",
      "Requirement already satisfied: jinja2 in /Users/adityamishra/anaconda3/lib/python3.10/site-packages (from notebook>=4.4.1->widgetsnbextension~=3.5.0->ipywidgets<9,>=7.6.0->ipympl) (3.1.2)\n",
      "Requirement already satisfied: nbconvert>=5 in /Users/adityamishra/anaconda3/lib/python3.10/site-packages (from notebook>=4.4.1->widgetsnbextension~=3.5.0->ipywidgets<9,>=7.6.0->ipympl) (6.5.4)\n",
      "Requirement already satisfied: terminado>=0.8.3 in /Users/adityamishra/anaconda3/lib/python3.10/site-packages (from notebook>=4.4.1->widgetsnbextension~=3.5.0->ipywidgets<9,>=7.6.0->ipympl) (0.17.1)\n",
      "Requirement already satisfied: prometheus-client in /Users/adityamishra/anaconda3/lib/python3.10/site-packages (from notebook>=4.4.1->widgetsnbextension~=3.5.0->ipywidgets<9,>=7.6.0->ipympl) (0.14.1)\n",
      "Requirement already satisfied: nbclassic>=0.4.7 in /Users/adityamishra/anaconda3/lib/python3.10/site-packages (from notebook>=4.4.1->widgetsnbextension~=3.5.0->ipywidgets<9,>=7.6.0->ipympl) (0.5.2)\n",
      "Requirement already satisfied: Send2Trash>=1.8.0 in /Users/adityamishra/anaconda3/lib/python3.10/site-packages (from notebook>=4.4.1->widgetsnbextension~=3.5.0->ipywidgets<9,>=7.6.0->ipympl) (1.8.0)\n",
      "Requirement already satisfied: argon2-cffi in /Users/adityamishra/anaconda3/lib/python3.10/site-packages (from notebook>=4.4.1->widgetsnbextension~=3.5.0->ipywidgets<9,>=7.6.0->ipympl) (21.3.0)\n"
     ]
    },
    {
     "name": "stdout",
     "output_type": "stream",
     "text": [
      "Requirement already satisfied: notebook-shim>=0.1.0 in /Users/adityamishra/anaconda3/lib/python3.10/site-packages (from nbclassic>=0.4.7->notebook>=4.4.1->widgetsnbextension~=3.5.0->ipywidgets<9,>=7.6.0->ipympl) (0.2.2)\n",
      "Requirement already satisfied: jupyter-server>=1.8 in /Users/adityamishra/anaconda3/lib/python3.10/site-packages (from nbclassic>=0.4.7->notebook>=4.4.1->widgetsnbextension~=3.5.0->ipywidgets<9,>=7.6.0->ipympl) (1.23.4)\n",
      "Requirement already satisfied: MarkupSafe>=2.0 in /Users/adityamishra/anaconda3/lib/python3.10/site-packages (from nbconvert>=5->notebook>=4.4.1->widgetsnbextension~=3.5.0->ipywidgets<9,>=7.6.0->ipympl) (2.1.1)\n",
      "Requirement already satisfied: tinycss2 in /Users/adityamishra/anaconda3/lib/python3.10/site-packages (from nbconvert>=5->notebook>=4.4.1->widgetsnbextension~=3.5.0->ipywidgets<9,>=7.6.0->ipympl) (1.2.1)\n",
      "Requirement already satisfied: bleach in /Users/adityamishra/anaconda3/lib/python3.10/site-packages (from nbconvert>=5->notebook>=4.4.1->widgetsnbextension~=3.5.0->ipywidgets<9,>=7.6.0->ipympl) (4.1.0)\n",
      "Requirement already satisfied: mistune<2,>=0.8.1 in /Users/adityamishra/anaconda3/lib/python3.10/site-packages (from nbconvert>=5->notebook>=4.4.1->widgetsnbextension~=3.5.0->ipywidgets<9,>=7.6.0->ipympl) (0.8.4)\n",
      "Requirement already satisfied: beautifulsoup4 in /Users/adityamishra/anaconda3/lib/python3.10/site-packages (from nbconvert>=5->notebook>=4.4.1->widgetsnbextension~=3.5.0->ipywidgets<9,>=7.6.0->ipympl) (4.11.1)\n",
      "Requirement already satisfied: jupyterlab-pygments in /Users/adityamishra/anaconda3/lib/python3.10/site-packages (from nbconvert>=5->notebook>=4.4.1->widgetsnbextension~=3.5.0->ipywidgets<9,>=7.6.0->ipympl) (0.1.2)\n",
      "Requirement already satisfied: defusedxml in /Users/adityamishra/anaconda3/lib/python3.10/site-packages (from nbconvert>=5->notebook>=4.4.1->widgetsnbextension~=3.5.0->ipywidgets<9,>=7.6.0->ipympl) (0.7.1)\n",
      "Requirement already satisfied: pandocfilters>=1.4.1 in /Users/adityamishra/anaconda3/lib/python3.10/site-packages (from nbconvert>=5->notebook>=4.4.1->widgetsnbextension~=3.5.0->ipywidgets<9,>=7.6.0->ipympl) (1.5.0)\n",
      "Requirement already satisfied: nbclient>=0.5.0 in /Users/adityamishra/anaconda3/lib/python3.10/site-packages (from nbconvert>=5->notebook>=4.4.1->widgetsnbextension~=3.5.0->ipywidgets<9,>=7.6.0->ipympl) (0.5.13)\n",
      "Requirement already satisfied: lxml in /Users/adityamishra/anaconda3/lib/python3.10/site-packages (from nbconvert>=5->notebook>=4.4.1->widgetsnbextension~=3.5.0->ipywidgets<9,>=7.6.0->ipympl) (4.9.1)\n",
      "Requirement already satisfied: argon2-cffi-bindings in /Users/adityamishra/anaconda3/lib/python3.10/site-packages (from argon2-cffi->notebook>=4.4.1->widgetsnbextension~=3.5.0->ipywidgets<9,>=7.6.0->ipympl) (21.2.0)\n",
      "Requirement already satisfied: websocket-client in /Users/adityamishra/anaconda3/lib/python3.10/site-packages (from jupyter-server>=1.8->nbclassic>=0.4.7->notebook>=4.4.1->widgetsnbextension~=3.5.0->ipywidgets<9,>=7.6.0->ipympl) (0.58.0)\n",
      "Requirement already satisfied: anyio<4,>=3.1.0 in /Users/adityamishra/anaconda3/lib/python3.10/site-packages (from jupyter-server>=1.8->nbclassic>=0.4.7->notebook>=4.4.1->widgetsnbextension~=3.5.0->ipywidgets<9,>=7.6.0->ipympl) (3.5.0)\n",
      "Requirement already satisfied: cffi>=1.0.1 in /Users/adityamishra/anaconda3/lib/python3.10/site-packages (from argon2-cffi-bindings->argon2-cffi->notebook>=4.4.1->widgetsnbextension~=3.5.0->ipywidgets<9,>=7.6.0->ipympl) (1.15.1)\n",
      "Requirement already satisfied: soupsieve>1.2 in /Users/adityamishra/anaconda3/lib/python3.10/site-packages (from beautifulsoup4->nbconvert>=5->notebook>=4.4.1->widgetsnbextension~=3.5.0->ipywidgets<9,>=7.6.0->ipympl) (2.3.2.post1)\n",
      "Requirement already satisfied: webencodings in /Users/adityamishra/anaconda3/lib/python3.10/site-packages (from bleach->nbconvert>=5->notebook>=4.4.1->widgetsnbextension~=3.5.0->ipywidgets<9,>=7.6.0->ipympl) (0.5.1)\n",
      "Requirement already satisfied: sniffio>=1.1 in /Users/adityamishra/anaconda3/lib/python3.10/site-packages (from anyio<4,>=3.1.0->jupyter-server>=1.8->nbclassic>=0.4.7->notebook>=4.4.1->widgetsnbextension~=3.5.0->ipywidgets<9,>=7.6.0->ipympl) (1.2.0)\n",
      "Requirement already satisfied: idna>=2.8 in /Users/adityamishra/anaconda3/lib/python3.10/site-packages (from anyio<4,>=3.1.0->jupyter-server>=1.8->nbclassic>=0.4.7->notebook>=4.4.1->widgetsnbextension~=3.5.0->ipywidgets<9,>=7.6.0->ipympl) (3.4)\n",
      "Requirement already satisfied: pycparser in /Users/adityamishra/anaconda3/lib/python3.10/site-packages (from cffi>=1.0.1->argon2-cffi-bindings->argon2-cffi->notebook>=4.4.1->widgetsnbextension~=3.5.0->ipywidgets<9,>=7.6.0->ipympl) (2.21)\n"
     ]
    }
   ],
   "source": [
    "!pip install ipympl"
   ]
  },
  {
   "cell_type": "code",
   "execution_count": 19,
   "metadata": {
    "scrolled": true
   },
   "outputs": [
    {
     "data": {
      "text/plain": [
       "[<matplotlib.lines.Line2D at 0x7ff298a0d4e0>,\n",
       " <matplotlib.lines.Line2D at 0x7ff2bb229150>,\n",
       " <matplotlib.lines.Line2D at 0x7ff298a0d3f0>,\n",
       " <matplotlib.lines.Line2D at 0x7ff298a0d420>,\n",
       " <matplotlib.lines.Line2D at 0x7ff298a0d660>,\n",
       " <matplotlib.lines.Line2D at 0x7ff298a0d5d0>,\n",
       " <matplotlib.lines.Line2D at 0x7ff298a0d7b0>,\n",
       " <matplotlib.lines.Line2D at 0x7ff298a0d8a0>,\n",
       " <matplotlib.lines.Line2D at 0x7ff298a0d990>,\n",
       " <matplotlib.lines.Line2D at 0x7ff298a0da80>,\n",
       " <matplotlib.lines.Line2D at 0x7ff298a0db70>,\n",
       " <matplotlib.lines.Line2D at 0x7ff298a0d360>,\n",
       " <matplotlib.lines.Line2D at 0x7ff298a0dc60>,\n",
       " <matplotlib.lines.Line2D at 0x7ff298a0de70>,\n",
       " <matplotlib.lines.Line2D at 0x7ff298a0df60>,\n",
       " <matplotlib.lines.Line2D at 0x7ff298a0e050>,\n",
       " <matplotlib.lines.Line2D at 0x7ff298a0e140>,\n",
       " <matplotlib.lines.Line2D at 0x7ff298a0e230>,\n",
       " <matplotlib.lines.Line2D at 0x7ff298a0e320>,\n",
       " <matplotlib.lines.Line2D at 0x7ff298a0e410>,\n",
       " <matplotlib.lines.Line2D at 0x7ff298a0e500>,\n",
       " <matplotlib.lines.Line2D at 0x7ff298a0e5f0>,\n",
       " <matplotlib.lines.Line2D at 0x7ff298a0e6e0>,\n",
       " <matplotlib.lines.Line2D at 0x7ff298a0e7d0>,\n",
       " <matplotlib.lines.Line2D at 0x7ff298a0e8c0>,\n",
       " <matplotlib.lines.Line2D at 0x7ff298a0e9b0>,\n",
       " <matplotlib.lines.Line2D at 0x7ff298a0eaa0>,\n",
       " <matplotlib.lines.Line2D at 0x7ff298a0eb90>,\n",
       " <matplotlib.lines.Line2D at 0x7ff298a0ec80>,\n",
       " <matplotlib.lines.Line2D at 0x7ff298a0ed70>,\n",
       " <matplotlib.lines.Line2D at 0x7ff298a0ee60>]"
      ]
     },
     "execution_count": 19,
     "metadata": {},
     "output_type": "execute_result"
    },
    {
     "data": {
      "application/vnd.jupyter.widget-view+json": {
       "model_id": "7bee0e78b9314928ba2ccf44cfe821a3",
       "version_major": 2,
       "version_minor": 0
      },
      "image/png": "[encoded data removed]",
      "text/html": [
       "\n",
       "            <div style=\"display: inline-block;\">\n",
       "                <div class=\"jupyter-widgets widget-label\" style=\"text-align: center;\">\n",
       "                    Figure\n",
       "                </div>\n",
       "                <img src='data:image/png;base64,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' width=640.0/>\n",
       "            </div>\n",
       "        "
      ],
      "text/plain": [
       "Canvas(toolbar=Toolbar(toolitems=[('Home', 'Reset original view', 'home', 'home'), ('Back', 'Back to previous …"
      ]
     },
     "metadata": {},
     "output_type": "display_data"
    }
   ],
   "source": [
    "import matplotlib.pyplot as plt\n",
    "%matplotlib widget\n",
    "\n",
    "plt.plot(new_dataset)"
   ]
  },
  {
   "cell_type": "code",
   "execution_count": 20,
   "metadata": {
    "colab": {
     "base_uri": "https://localhost:8080/"
    },
    "id": "bFsRcj0gX-3M",
    "outputId": "7c6c1b70-d098-4e9c-ad1f-c25f9d91a8d6"
   },
   "outputs": [
    {
     "data": {
      "text/plain": [
       "0    492\n",
       "1    492\n",
       "Name: Class, dtype: int64"
      ]
     },
     "execution_count": 20,
     "metadata": {},
     "output_type": "execute_result"
    }
   ],
   "source": [
    "new_dataset['Class'].value_counts()"
   ]
  },
  {
   "cell_type": "code",
   "execution_count": 21,
   "metadata": {
    "colab": {
     "base_uri": "https://localhost:8080/",
     "height": 158
    },
    "id": "jan1xMeWYLrM",
    "outputId": "a944d4b6-b4b7-4949-a112-00ad583eab13"
   },
   "outputs": [
    {
     "data": {
      "text/html": [
       "<div>\n",
       "<style scoped>\n",
       "    .dataframe tbody tr th:only-of-type {\n",
       "        vertical-align: middle;\n",
       "    }\n",
       "\n",
       "    .dataframe tbody tr th {\n",
       "        vertical-align: top;\n",
       "    }\n",
       "\n",
       "    .dataframe thead th {\n",
       "        text-align: right;\n",
       "    }\n",
       "</style>\n",
       "<table border=\"1\" class=\"dataframe\">\n",
       "  <thead>\n",
       "    <tr style=\"text-align: right;\">\n",
       "      <th></th>\n",
       "      <th>Time</th>\n",
       "      <th>V1</th>\n",
       "      <th>V2</th>\n",
       "      <th>V3</th>\n",
       "      <th>V4</th>\n",
       "      <th>V5</th>\n",
       "      <th>V6</th>\n",
       "      <th>V7</th>\n",
       "      <th>V8</th>\n",
       "      <th>V9</th>\n",
       "      <th>...</th>\n",
       "      <th>V20</th>\n",
       "      <th>V21</th>\n",
       "      <th>V22</th>\n",
       "      <th>V23</th>\n",
       "      <th>V24</th>\n",
       "      <th>V25</th>\n",
       "      <th>V26</th>\n",
       "      <th>V27</th>\n",
       "      <th>V28</th>\n",
       "      <th>Amount</th>\n",
       "    </tr>\n",
       "    <tr>\n",
       "      <th>Class</th>\n",
       "      <th></th>\n",
       "      <th></th>\n",
       "      <th></th>\n",
       "      <th></th>\n",
       "      <th></th>\n",
       "      <th></th>\n",
       "      <th></th>\n",
       "      <th></th>\n",
       "      <th></th>\n",
       "      <th></th>\n",
       "      <th></th>\n",
       "      <th></th>\n",
       "      <th></th>\n",
       "      <th></th>\n",
       "      <th></th>\n",
       "      <th></th>\n",
       "      <th></th>\n",
       "      <th></th>\n",
       "      <th></th>\n",
       "      <th></th>\n",
       "      <th></th>\n",
       "    </tr>\n",
       "  </thead>\n",
       "  <tbody>\n",
       "    <tr>\n",
       "      <th>0</th>\n",
       "      <td>98324.851626</td>\n",
       "      <td>0.130636</td>\n",
       "      <td>0.029153</td>\n",
       "      <td>-0.040159</td>\n",
       "      <td>0.030999</td>\n",
       "      <td>0.012885</td>\n",
       "      <td>-0.045276</td>\n",
       "      <td>-0.008663</td>\n",
       "      <td>0.005226</td>\n",
       "      <td>0.030921</td>\n",
       "      <td>...</td>\n",
       "      <td>-0.034640</td>\n",
       "      <td>-0.012347</td>\n",
       "      <td>-0.033589</td>\n",
       "      <td>-0.002372</td>\n",
       "      <td>-0.014374</td>\n",
       "      <td>0.006631</td>\n",
       "      <td>-0.041747</td>\n",
       "      <td>0.008326</td>\n",
       "      <td>-0.003088</td>\n",
       "      <td>78.046707</td>\n",
       "    </tr>\n",
       "    <tr>\n",
       "      <th>1</th>\n",
       "      <td>80746.806911</td>\n",
       "      <td>-4.771948</td>\n",
       "      <td>3.623778</td>\n",
       "      <td>-7.033281</td>\n",
       "      <td>4.542029</td>\n",
       "      <td>-3.151225</td>\n",
       "      <td>-1.397737</td>\n",
       "      <td>-5.568731</td>\n",
       "      <td>0.570636</td>\n",
       "      <td>-2.581123</td>\n",
       "      <td>...</td>\n",
       "      <td>0.372319</td>\n",
       "      <td>0.713588</td>\n",
       "      <td>0.014049</td>\n",
       "      <td>-0.040308</td>\n",
       "      <td>-0.105130</td>\n",
       "      <td>0.041449</td>\n",
       "      <td>0.051648</td>\n",
       "      <td>0.170575</td>\n",
       "      <td>0.075667</td>\n",
       "      <td>122.211321</td>\n",
       "    </tr>\n",
       "  </tbody>\n",
       "</table>\n",
       "<p>2 rows × 30 columns</p>\n",
       "</div>"
      ],
      "text/plain": [
       "               Time        V1        V2        V3        V4        V5  \\\n",
       "Class                                                                   \n",
       "0      98324.851626  0.130636  0.029153 -0.040159  0.030999  0.012885   \n",
       "1      80746.806911 -4.771948  3.623778 -7.033281  4.542029 -3.151225   \n",
       "\n",
       "             V6        V7        V8        V9  ...       V20       V21  \\\n",
       "Class                                          ...                       \n",
       "0     -0.045276 -0.008663  0.005226  0.030921  ... -0.034640 -0.012347   \n",
       "1     -1.397737 -5.568731  0.570636 -2.581123  ...  0.372319  0.713588   \n",
       "\n",
       "            V22       V23       V24       V25       V26       V27       V28  \\\n",
       "Class                                                                         \n",
       "0     -0.033589 -0.002372 -0.014374  0.006631 -0.041747  0.008326 -0.003088   \n",
       "1      0.014049 -0.040308 -0.105130  0.041449  0.051648  0.170575  0.075667   \n",
       "\n",
       "           Amount  \n",
       "Class              \n",
       "0       78.046707  \n",
       "1      122.211321  \n",
       "\n",
       "[2 rows x 30 columns]"
      ]
     },
     "execution_count": 21,
     "metadata": {},
     "output_type": "execute_result"
    }
   ],
   "source": [
    "new_dataset.groupby('Class').mean()"
   ]
  },
  {
   "cell_type": "code",
   "execution_count": 22,
   "metadata": {
    "id": "oiC0OOyUYUoD"
   },
   "outputs": [],
   "source": [
    "X = new_dataset.drop(columns='Class', axis=1)\n",
    "Y = new_dataset['Class']"
   ]
  },
  {
   "cell_type": "code",
   "execution_count": 23,
   "metadata": {
    "colab": {
     "base_uri": "https://localhost:8080/"
    },
    "id": "9u7wbWqzYyrI",
    "outputId": "0c54feb3-2962-4841-f98c-23c4fdb51b76",
    "scrolled": true
   },
   "outputs": [
    {
     "name": "stdout",
     "output_type": "stream",
     "text": [
      "            Time        V1        V2        V3        V4        V5        V6  \\\n",
      "132469   79998.0  0.794488 -0.374689  1.515845  2.871244 -0.233350  2.635541   \n",
      "253923  156494.0  1.735629 -0.424067 -1.721274  0.506187 -0.157993 -0.970720   \n",
      "99459    67128.0 -0.473955 -0.166953 -0.092222  0.217894  2.859102  3.684491   \n",
      "267839  162951.0 -1.347429 -0.083430  1.914930 -0.983736  1.131603 -0.513616   \n",
      "19786    30558.0  1.171674  0.227320  0.289589  0.530368 -0.162264 -0.286743   \n",
      "...          ...       ...       ...       ...       ...       ...       ...   \n",
      "279863  169142.0 -1.927883  1.125653 -4.518331  1.749293 -1.566487 -2.010494   \n",
      "280143  169347.0  1.378559  1.289381 -5.004247  1.411850  0.442581 -1.326536   \n",
      "280149  169351.0 -0.676143  1.126366 -2.213700  0.468308 -1.120541 -0.003346   \n",
      "281144  169966.0 -3.113832  0.585864 -5.399730  1.817092 -0.840618 -2.943548   \n",
      "281674  170348.0  1.991976  0.158476 -2.583441  0.408670  1.151147 -0.096695   \n",
      "\n",
      "              V7        V8        V9  ...       V20       V21       V22  \\\n",
      "132469 -1.001466  0.909211  0.805104  ... -0.273002 -0.166158 -0.058640   \n",
      "253923  0.081094 -0.076729  0.947752  ... -0.030502 -0.136180 -0.484363   \n",
      "99459   0.258788  0.726765 -0.284158  ...  0.485886 -0.070253 -0.287106   \n",
      "267839  0.086509  0.208079  0.250636  ...  0.120628 -0.130227 -0.674715   \n",
      "19786  -0.123704  0.106217 -0.166848  ... -0.129937 -0.213801 -0.637680   \n",
      "...          ...       ...       ...  ...       ...       ...       ...   \n",
      "279863 -0.882850  0.697211 -2.064945  ...  1.252967  0.778584 -0.319189   \n",
      "280143 -1.413170  0.248525 -1.127396  ...  0.226138  0.370612  0.028234   \n",
      "280149 -2.234739  1.210158 -0.652250  ...  0.247968  0.751826  0.834108   \n",
      "281144 -2.208002  1.058733 -1.632333  ...  0.306271  0.583276 -0.269209   \n",
      "281674  0.223050 -0.068384  0.577829  ... -0.017652 -0.164350 -0.295135   \n",
      "\n",
      "             V23       V24       V25       V26       V27       V28  Amount  \n",
      "132469  0.127486 -0.971666  0.054220  0.066431  0.117705  0.025309   54.86  \n",
      "253923  0.102637 -0.141327 -0.209747 -0.116027 -0.036389 -0.010524  126.44  \n",
      "99459   0.025957  0.996737  0.413465 -0.297046 -0.153171 -0.197682   97.42  \n",
      "267839 -0.101054  0.524812  0.529595 -0.606867  0.007330  0.086405   13.99  \n",
      "19786   0.151814 -0.033823  0.099602  0.108333 -0.013014  0.016160    0.99  \n",
      "...          ...       ...       ...       ...       ...       ...     ...  \n",
      "279863  0.639419 -0.294885  0.537503  0.788395  0.292680  0.147968  390.00  \n",
      "280143 -0.145640 -0.081049  0.521875  0.739467  0.389152  0.186637    0.76  \n",
      "280149  0.190944  0.032070 -0.739695  0.471111  0.385107  0.194361   77.89  \n",
      "281144 -0.456108 -0.183659 -0.328168  0.606116  0.884876 -0.253700  245.00  \n",
      "281674 -0.072173 -0.450261  0.313267 -0.289617  0.002988 -0.015309   42.53  \n",
      "\n",
      "[984 rows x 30 columns]\n"
     ]
    }
   ],
   "source": [
    "print(X)"
   ]
  },
  {
   "cell_type": "code",
   "execution_count": 24,
   "metadata": {
    "colab": {
     "base_uri": "https://localhost:8080/"
    },
    "id": "EHnRPzZvYz-F",
    "outputId": "5cd0aae8-1749-4101-a077-35cf5f05b58d",
    "scrolled": true
   },
   "outputs": [
    {
     "name": "stdout",
     "output_type": "stream",
     "text": [
      "132469    0\n",
      "253923    0\n",
      "99459     0\n",
      "267839    0\n",
      "19786     0\n",
      "         ..\n",
      "279863    1\n",
      "280143    1\n",
      "280149    1\n",
      "281144    1\n",
      "281674    1\n",
      "Name: Class, Length: 984, dtype: int64\n"
     ]
    }
   ],
   "source": [
    "print(Y)\n",
    "      "
   ]
  },
  {
   "cell_type": "code",
   "execution_count": 25,
   "metadata": {
    "id": "FrsqqwT0Y3n5"
   },
   "outputs": [],
   "source": [
    "X_train, X_test, Y_train, Y_test = train_test_split(X, Y, test_size=0.2, stratify=Y, random_state=2)"
   ]
  },
  {
   "cell_type": "code",
   "execution_count": 28,
   "metadata": {
    "colab": {
     "base_uri": "https://localhost:8080/"
    },
    "id": "FUmwXz99ZuvK",
    "outputId": "a5645b66-417f-4e66-af0f-05cd0a78e182"
   },
   "outputs": [
    {
     "name": "stdout",
     "output_type": "stream",
     "text": [
      "(984, 30) (787, 30) (197, 30)\n"
     ]
    }
   ],
   "source": [
    "print(X.shape, X_train.shape, X_test.shape)"
   ]
  },
  {
   "cell_type": "code",
   "execution_count": 26,
   "metadata": {
    "id": "i0HHd1v8Z2Mq"
   },
   "outputs": [],
   "source": [
    "model = LogisticRegression()"
   ]
  },
  {
   "cell_type": "code",
   "execution_count": 27,
   "metadata": {
    "colab": {
     "base_uri": "https://localhost:8080/"
    },
    "id": "_rshSouvaGrv",
    "outputId": "bed2be43-222c-41ae-925c-ffac11b7cb52"
   },
   "outputs": [
    {
     "data": {
      "text/html": [
       "<style>#sk-container-id-1 {color: black;background-color: white;}#sk-container-id-1 pre{padding: 0;}#sk-container-id-1 div.sk-toggleable {background-color: white;}#sk-container-id-1 label.sk-toggleable__label {cursor: pointer;display: block;width: 100%;margin-bottom: 0;padding: 0.3em;box-sizing: border-box;text-align: center;}#sk-container-id-1 label.sk-toggleable__label-arrow:before {content: \"▸\";float: left;margin-right: 0.25em;color: #696969;}#sk-container-id-1 label.sk-toggleable__label-arrow:hover:before {color: black;}#sk-container-id-1 div.sk-estimator:hover label.sk-toggleable__label-arrow:before {color: black;}#sk-container-id-1 div.sk-toggleable__content {max-height: 0;max-width: 0;overflow: hidden;text-align: left;background-color: #f0f8ff;}#sk-container-id-1 div.sk-toggleable__content pre {margin: 0.2em;color: black;border-radius: 0.25em;background-color: #f0f8ff;}#sk-container-id-1 input.sk-toggleable__control:checked~div.sk-toggleable__content {max-height: 200px;max-width: 100%;overflow: auto;}#sk-container-id-1 input.sk-toggleable__control:checked~label.sk-toggleable__label-arrow:before {content: \"▾\";}#sk-container-id-1 div.sk-estimator input.sk-toggleable__control:checked~label.sk-toggleable__label {background-color: #d4ebff;}#sk-container-id-1 div.sk-label input.sk-toggleable__control:checked~label.sk-toggleable__label {background-color: #d4ebff;}#sk-container-id-1 input.sk-hidden--visually {border: 0;clip: rect(1px 1px 1px 1px);clip: rect(1px, 1px, 1px, 1px);height: 1px;margin: -1px;overflow: hidden;padding: 0;position: absolute;width: 1px;}#sk-container-id-1 div.sk-estimator {font-family: monospace;background-color: #f0f8ff;border: 1px dotted black;border-radius: 0.25em;box-sizing: border-box;margin-bottom: 0.5em;}#sk-container-id-1 div.sk-estimator:hover {background-color: #d4ebff;}#sk-container-id-1 div.sk-parallel-item::after {content: \"\";width: 100%;border-bottom: 1px solid gray;flex-grow: 1;}#sk-container-id-1 div.sk-label:hover label.sk-toggleable__label {background-color: #d4ebff;}#sk-container-id-1 div.sk-serial::before {content: \"\";position: absolute;border-left: 1px solid gray;box-sizing: border-box;top: 0;bottom: 0;left: 50%;z-index: 0;}#sk-container-id-1 div.sk-serial {display: flex;flex-direction: column;align-items: center;background-color: white;padding-right: 0.2em;padding-left: 0.2em;position: relative;}#sk-container-id-1 div.sk-item {position: relative;z-index: 1;}#sk-container-id-1 div.sk-parallel {display: flex;align-items: stretch;justify-content: center;background-color: white;position: relative;}#sk-container-id-1 div.sk-item::before, #sk-container-id-1 div.sk-parallel-item::before {content: \"\";position: absolute;border-left: 1px solid gray;box-sizing: border-box;top: 0;bottom: 0;left: 50%;z-index: -1;}#sk-container-id-1 div.sk-parallel-item {display: flex;flex-direction: column;z-index: 1;position: relative;background-color: white;}#sk-container-id-1 div.sk-parallel-item:first-child::after {align-self: flex-end;width: 50%;}#sk-container-id-1 div.sk-parallel-item:last-child::after {align-self: flex-start;width: 50%;}#sk-container-id-1 div.sk-parallel-item:only-child::after {width: 0;}#sk-container-id-1 div.sk-dashed-wrapped {border: 1px dashed gray;margin: 0 0.4em 0.5em 0.4em;box-sizing: border-box;padding-bottom: 0.4em;background-color: white;}#sk-container-id-1 div.sk-label label {font-family: monospace;font-weight: bold;display: inline-block;line-height: 1.2em;}#sk-container-id-1 div.sk-label-container {text-align: center;}#sk-container-id-1 div.sk-container {/* jupyter's `normalize.less` sets `[hidden] { display: none; }` but bootstrap.min.css set `[hidden] { display: none !important; }` so we also need the `!important` here to be able to override the default hidden behavior on the sphinx rendered scikit-learn.org. See: https://github.com/scikit-learn/scikit-learn/issues/21755 */display: inline-block !important;position: relative;}#sk-container-id-1 div.sk-text-repr-fallback {display: none;}</style><div id=\"sk-container-id-1\" class=\"sk-top-container\"><div class=\"sk-text-repr-fallback\"><pre>LogisticRegression()</pre><b>In a Jupyter environment, please rerun this cell to show the HTML representation or trust the notebook. <br />On GitHub, the HTML representation is unable to render, please try loading this page with nbviewer.org.</b></div><div class=\"sk-container\" hidden><div class=\"sk-item\"><div class=\"sk-estimator sk-toggleable\"><input class=\"sk-toggleable__control sk-hidden--visually\" id=\"sk-estimator-id-1\" type=\"checkbox\" checked><label for=\"sk-estimator-id-1\" class=\"sk-toggleable__label sk-toggleable__label-arrow\">LogisticRegression</label><div class=\"sk-toggleable__content\"><pre>LogisticRegression()</pre></div></div></div></div></div>"
      ],
      "text/plain": [
       "LogisticRegression()"
      ]
     },
     "execution_count": 27,
     "metadata": {},
     "output_type": "execute_result"
    }
   ],
   "source": [
    "# training the Logistic Regression Model with Training Data\n",
    "model.fit(X_train, Y_train)"
   ]
  },
  {
   "cell_type": "code",
   "execution_count": 28,
   "metadata": {
    "id": "pC2kCJhOaage"
   },
   "outputs": [],
   "source": [
    "X_train_prediction = model.predict(X_train)\n",
    "training_data_accuracy = accuracy_score(X_train_prediction, Y_train)\n"
   ]
  },
  {
   "cell_type": "code",
   "execution_count": 30,
   "metadata": {},
   "outputs": [],
   "source": [
    "num_epochs = 3\n",
    "acc_sco = []\n",
    "for epoch in range(1, num_epochs + 1):\n",
    "    X_train_prediction = model.predict(X_train) \n",
    "    accuracy = accuracy_score(X_train_prediction, Y_train)  \n",
    "    acc_sco.append(accuracy)"
   ]
  },
  {
   "cell_type": "code",
   "execution_count": 36,
   "metadata": {
    "scrolled": true
   },
   "outputs": [
    {
     "name": "stdout",
     "output_type": "stream",
     "text": [
      "Accuracy on Training data :  0.9263024142312579\n"
     ]
    },
    {
     "data": {
      "application/vnd.jupyter.widget-view+json": {
       "model_id": "e5628214b1334adfbeb6981b8c456012",
       "version_major": 2,
       "version_minor": 0
      },
      "image/png": "[encoded data removed]",
      "text/html": [
       "\n",
       "            <div style=\"display: inline-block;\">\n",
       "                <div class=\"jupyter-widgets widget-label\" style=\"text-align: center;\">\n",
       "                    Figure\n",
       "                </div>\n",
       "                <img src='data:image/png;base64,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' width=800.0/>\n",
       "            </div>\n",
       "        "
      ],
      "text/plain": [
       "Canvas(toolbar=Toolbar(toolitems=[('Home', 'Reset original view', 'home', 'home'), ('Back', 'Back to previous …"
      ]
     },
     "metadata": {},
     "output_type": "display_data"
    }
   ],
   "source": [
    "print('Accuracy on Training data : ', training_data_accuracy)\n",
    "plt.figure(figsize=(8, 5))\n",
    "plt.plot(range(1, num_epochs + 1), acc_sco, marker='o')\n",
    "plt.title('Training Data Accuracy Over Epochs')\n",
    "plt.xlabel('Epochs')\n",
    "plt.ylabel('Accuracy')\n",
    "plt.grid(True)\n",
    "plt.show()"
   ]
  },
  {
   "cell_type": "code",
   "execution_count": 31,
   "metadata": {
    "id": "tryJUs6mbJM7"
   },
   "outputs": [],
   "source": [
    "X_test_prediction = model.predict(X_test)\n",
    "test_data_accuracy = accuracy_score(X_test_prediction, Y_test)"
   ]
  },
  {
   "cell_type": "code",
   "execution_count": 32,
   "metadata": {},
   "outputs": [
    {
     "name": "stdout",
     "output_type": "stream",
     "text": [
      "Accuracy score on Test Data :  0.9289340101522843\n"
     ]
    },
    {
     "data": {
      "application/vnd.jupyter.widget-view+json": {
       "model_id": "f7021c099a0a4899b2e6dfaf8f2ff837",
       "version_major": 2,
       "version_minor": 0
      },
      "image/png": "[encoded data removed]",
      "text/html": [
       "\n",
       "            <div style=\"display: inline-block;\">\n",
       "                <div class=\"jupyter-widgets widget-label\" style=\"text-align: center;\">\n",
       "                    Figure\n",
       "                </div>\n",
       "                <img src='data:image/png;base64,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' width=800.0/>\n",
       "            </div>\n",
       "        "
      ],
      "text/plain": [
       "Canvas(toolbar=Toolbar(toolitems=[('Home', 'Reset original view', 'home', 'home'), ('Back', 'Back to previous …"
      ]
     },
     "metadata": {},
     "output_type": "display_data"
    }
   ],
   "source": [
    "print('Accuracy score on Test Data : ', test_data_accuracy)\n",
    "accuracy_scores = []\n",
    "\n",
    "for epoch in range(1, num_epochs + 1):  \n",
    "    X_test_prediction = model.predict(X_test)  \n",
    "    accuracy = accuracy_score(X_test_prediction, Y_test) \n",
    "    accuracy_scores.append(accuracy)\n",
    "\n",
    "plt.figure(figsize=(8, 5))\n",
    "plt.plot(range(1, num_epochs + 1), accuracy_scores, marker='o')\n",
    "plt.title('Test Data Accuracy Over Epochs')\n",
    "plt.xlabel('Epochs')\n",
    "plt.ylabel('Accuracy')\n",
    "plt.grid(True)\n",
    "plt.show()"
   ]
  }
 ],
 "metadata": {
  "colab": {
   "provenance": []
  },
  "kernelspec": {
   "display_name": "Python 3 (ipykernel)",
   "language": "python",
   "name": "python3"
  },
  "language_info": {
   "codemirror_mode": {
    "name": "ipython",
    "version": 3
   },
   "file_extension": ".py",
   "mimetype": "text/x-python",
   "name": "python",
   "nbconvert_exporter": "python",
   "pygments_lexer": "ipython3",
   "version": "3.10.9"
  }
 },
 "nbformat": 4,
 "nbformat_minor": 1
}
